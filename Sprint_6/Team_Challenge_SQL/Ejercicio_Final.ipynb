{
 "cells": [
  {
   "cell_type": "markdown",
   "id": "28d6cb74",
   "metadata": {},
   "source": [
    "![Portada](Portada.png)"
   ]
  },
  {
   "cell_type": "code",
   "execution_count": 3,
   "id": "5622c081-6d44-40c7-97ff-67fa3b9baeb6",
   "metadata": {},
   "outputs": [],
   "source": [
    "import pandas as pd\n",
    "import sqlite3"
   ]
  },
  {
   "cell_type": "code",
   "execution_count": 3,
   "id": "f8930482-2a10-4620-8f0b-1ad31f2a6d81",
   "metadata": {},
   "outputs": [],
   "source": [
    "#Conexión a la base de datos\n",
    "connection = sqlite3.connect(\"/Users/alvarosanchez/ONLINE_DS_THEBRIDGE_ALVAROSMMS-1/ONLINE_DS_THEBRIDGE_ALVAROSMMS/Sprint_6/Team_Challenge_SQL/sql-murder-mystery.db\")"
   ]
  },
  {
   "cell_type": "code",
   "execution_count": 4,
   "id": "0d7e17db-92d9-4dcd-9105-c81df24f2585",
   "metadata": {},
   "outputs": [],
   "source": [
    "#Se optine el cursor\n",
    "game_cursor = connection.cursor()"
   ]
  },
  {
   "cell_type": "code",
   "execution_count": 5,
   "id": "5dee11d1-a6b1-436f-9a66-e6b89a2529bb",
   "metadata": {},
   "outputs": [],
   "source": [
    "#Definición la funcion para leer datos y pasar a un dataframe de pandas\n",
    "\n",
    "def sql_query(query):\n",
    "    game_cursor.execute(query)\n",
    "    ans = game_cursor.fetchall()\n",
    "    names = [description[0] for description in game_cursor.description]\n",
    "    #Modifico la funcion para poder ver las columnas enteras \n",
    "    for row in ans:\n",
    "        print([str(col) for col in row])  # Convierte todas las columnas a string para evitar truncamientos\n",
    "    \n",
    "    return pd.DataFrame(ans, columns=names)\n"
   ]
  },
  {
   "cell_type": "code",
   "execution_count": 6,
   "id": "c59dbd6c-3ff9-49b6-9879-0a367cf4a783",
   "metadata": {},
   "outputs": [
    {
     "name": "stdout",
     "output_type": "stream",
     "text": [
      "['crime_scene_report']\n",
      "['drivers_license']\n",
      "['person']\n",
      "['facebook_event_checkin']\n",
      "['interview']\n",
      "['get_fit_now_member']\n",
      "['get_fit_now_check_in']\n",
      "['income']\n",
      "['solution']\n"
     ]
    },
    {
     "data": {
      "text/html": [
       "<div>\n",
       "<style scoped>\n",
       "    .dataframe tbody tr th:only-of-type {\n",
       "        vertical-align: middle;\n",
       "    }\n",
       "\n",
       "    .dataframe tbody tr th {\n",
       "        vertical-align: top;\n",
       "    }\n",
       "\n",
       "    .dataframe thead th {\n",
       "        text-align: right;\n",
       "    }\n",
       "</style>\n",
       "<table border=\"1\" class=\"dataframe\">\n",
       "  <thead>\n",
       "    <tr style=\"text-align: right;\">\n",
       "      <th></th>\n",
       "      <th>name</th>\n",
       "    </tr>\n",
       "  </thead>\n",
       "  <tbody>\n",
       "    <tr>\n",
       "      <th>0</th>\n",
       "      <td>crime_scene_report</td>\n",
       "    </tr>\n",
       "    <tr>\n",
       "      <th>1</th>\n",
       "      <td>drivers_license</td>\n",
       "    </tr>\n",
       "    <tr>\n",
       "      <th>2</th>\n",
       "      <td>person</td>\n",
       "    </tr>\n",
       "    <tr>\n",
       "      <th>3</th>\n",
       "      <td>facebook_event_checkin</td>\n",
       "    </tr>\n",
       "    <tr>\n",
       "      <th>4</th>\n",
       "      <td>interview</td>\n",
       "    </tr>\n",
       "    <tr>\n",
       "      <th>5</th>\n",
       "      <td>get_fit_now_member</td>\n",
       "    </tr>\n",
       "    <tr>\n",
       "      <th>6</th>\n",
       "      <td>get_fit_now_check_in</td>\n",
       "    </tr>\n",
       "    <tr>\n",
       "      <th>7</th>\n",
       "      <td>income</td>\n",
       "    </tr>\n",
       "    <tr>\n",
       "      <th>8</th>\n",
       "      <td>solution</td>\n",
       "    </tr>\n",
       "  </tbody>\n",
       "</table>\n",
       "</div>"
      ],
      "text/plain": [
       "                     name\n",
       "0      crime_scene_report\n",
       "1         drivers_license\n",
       "2                  person\n",
       "3  facebook_event_checkin\n",
       "4               interview\n",
       "5      get_fit_now_member\n",
       "6    get_fit_now_check_in\n",
       "7                  income\n",
       "8                solution"
      ]
     },
     "execution_count": 6,
     "metadata": {},
     "output_type": "execute_result"
    }
   ],
   "source": [
    "#Query para ver los nombres de las tablas\n",
    "query = ''' \n",
    "SELECT name \n",
    "FROM sqlite_master\n",
    "where type = 'table'\n",
    "'''\n",
    "sql_query(query)"
   ]
  },
  {
   "cell_type": "markdown",
   "id": "e9437af3",
   "metadata": {},
   "source": [
    "![Diagrama](Diagrama.png)"
   ]
  },
  {
   "cell_type": "code",
   "execution_count": 8,
   "id": "0f9634c7-6cc3-4dfa-be6e-1c78aa2ab708",
   "metadata": {},
   "outputs": [
    {
     "data": {
      "text/plain": [
       "<sqlite3.Cursor at 0x10ab01240>"
      ]
     },
     "execution_count": 8,
     "metadata": {},
     "output_type": "execute_result"
    }
   ],
   "source": [
    "# Actualizo la columna 'date' al formato europeo\n",
    "game_cursor.execute(\"\"\"\n",
    "    UPDATE crime_scene_report\n",
    "    SET date = SUBSTR(date, 7, 2) || '-' || SUBSTR(date, 5, 2) || '-' || SUBSTR(date, 1, 4)\n",
    "\"\"\")"
   ]
  },
  {
   "cell_type": "markdown",
   "id": "76e5a443",
   "metadata": {},
   "source": [
    "![Pistas](pistas.png)"
   ]
  },
  {
   "cell_type": "code",
   "execution_count": 9,
   "id": "6368fcf7-37d6-4b30-93ad-d70e00d7f338",
   "metadata": {},
   "outputs": [
    {
     "name": "stdout",
     "output_type": "stream",
     "text": [
      "['15-01-2018', 'murder', 'Security footage shows that there were 2 witnesses. The first witness lives at the last house on \"Northwestern Dr\". The second witness, named Annabel, lives somewhere on \"Franklin Ave\".', 'SQL City']\n"
     ]
    },
    {
     "data": {
      "text/html": [
       "<div>\n",
       "<style scoped>\n",
       "    .dataframe tbody tr th:only-of-type {\n",
       "        vertical-align: middle;\n",
       "    }\n",
       "\n",
       "    .dataframe tbody tr th {\n",
       "        vertical-align: top;\n",
       "    }\n",
       "\n",
       "    .dataframe thead th {\n",
       "        text-align: right;\n",
       "    }\n",
       "</style>\n",
       "<table border=\"1\" class=\"dataframe\">\n",
       "  <thead>\n",
       "    <tr style=\"text-align: right;\">\n",
       "      <th></th>\n",
       "      <th>date</th>\n",
       "      <th>type</th>\n",
       "      <th>description</th>\n",
       "      <th>city</th>\n",
       "    </tr>\n",
       "  </thead>\n",
       "  <tbody>\n",
       "    <tr>\n",
       "      <th>0</th>\n",
       "      <td>15-01-2018</td>\n",
       "      <td>murder</td>\n",
       "      <td>Security footage shows that there were 2 witne...</td>\n",
       "      <td>SQL City</td>\n",
       "    </tr>\n",
       "  </tbody>\n",
       "</table>\n",
       "</div>"
      ],
      "text/plain": [
       "         date    type                                        description  \\\n",
       "0  15-01-2018  murder  Security footage shows that there were 2 witne...   \n",
       "\n",
       "       city  \n",
       "0  SQL City  "
      ]
     },
     "execution_count": 9,
     "metadata": {},
     "output_type": "execute_result"
    }
   ],
   "source": [
    "#Filtramos por type: murder, date: 15-01-2018, city =SQL City para obtener el informe.\n",
    "query='''\n",
    "SELECT *\n",
    "FROM crime_scene_report\n",
    "WHERE type = \"murder\"\n",
    "\tAND date = \"15-01-2018\"\n",
    "\tAND city = \"SQL City\";\n",
    "'''\n",
    "sql_query(query)"
   ]
  },
  {
   "cell_type": "markdown",
   "id": "94e6f0b5-b666-4c3e-afdf-a6c4ef95d764",
   "metadata": {},
   "source": [
    "![Informe](Informe.png)"
   ]
  },
  {
   "cell_type": "code",
   "execution_count": 10,
   "id": "80fedc0f-73e1-4a73-abca-9b4fd2a00b31",
   "metadata": {
    "scrolled": true
   },
   "outputs": [
    {
     "name": "stdout",
     "output_type": "stream",
     "text": [
      "['14887', 'Morty Schapiro', '118009', '4919', 'Northwestern Dr', '111564949']\n"
     ]
    },
    {
     "data": {
      "text/html": [
       "<div>\n",
       "<style scoped>\n",
       "    .dataframe tbody tr th:only-of-type {\n",
       "        vertical-align: middle;\n",
       "    }\n",
       "\n",
       "    .dataframe tbody tr th {\n",
       "        vertical-align: top;\n",
       "    }\n",
       "\n",
       "    .dataframe thead th {\n",
       "        text-align: right;\n",
       "    }\n",
       "</style>\n",
       "<table border=\"1\" class=\"dataframe\">\n",
       "  <thead>\n",
       "    <tr style=\"text-align: right;\">\n",
       "      <th></th>\n",
       "      <th>id</th>\n",
       "      <th>name</th>\n",
       "      <th>license_id</th>\n",
       "      <th>address_number</th>\n",
       "      <th>address_street_name</th>\n",
       "      <th>ssn</th>\n",
       "    </tr>\n",
       "  </thead>\n",
       "  <tbody>\n",
       "    <tr>\n",
       "      <th>0</th>\n",
       "      <td>14887</td>\n",
       "      <td>Morty Schapiro</td>\n",
       "      <td>118009</td>\n",
       "      <td>4919</td>\n",
       "      <td>Northwestern Dr</td>\n",
       "      <td>111564949</td>\n",
       "    </tr>\n",
       "  </tbody>\n",
       "</table>\n",
       "</div>"
      ],
      "text/plain": [
       "      id            name  license_id  address_number address_street_name  \\\n",
       "0  14887  Morty Schapiro      118009            4919     Northwestern Dr   \n",
       "\n",
       "         ssn  \n",
       "0  111564949  "
      ]
     },
     "execution_count": 10,
     "metadata": {},
     "output_type": "execute_result"
    }
   ],
   "source": [
    "#Identificamos el primer testigo\n",
    "query='''\n",
    "SELECT *\n",
    "FROM person\n",
    "WHERE address_street_name = \"Northwestern Dr\"\n",
    "ORDER BY address_number DESC\n",
    "LIMIT 1;\n",
    "'''\n",
    "sql_query(query)"
   ]
  },
  {
   "cell_type": "code",
   "execution_count": 11,
   "id": "8a618a23-25e2-4413-b5ef-0f50b0b650c9",
   "metadata": {},
   "outputs": [
    {
     "name": "stdout",
     "output_type": "stream",
     "text": [
      "['16371', 'Annabel Miller', '490173', '103', 'Franklin Ave', '318771143']\n"
     ]
    },
    {
     "data": {
      "text/html": [
       "<div>\n",
       "<style scoped>\n",
       "    .dataframe tbody tr th:only-of-type {\n",
       "        vertical-align: middle;\n",
       "    }\n",
       "\n",
       "    .dataframe tbody tr th {\n",
       "        vertical-align: top;\n",
       "    }\n",
       "\n",
       "    .dataframe thead th {\n",
       "        text-align: right;\n",
       "    }\n",
       "</style>\n",
       "<table border=\"1\" class=\"dataframe\">\n",
       "  <thead>\n",
       "    <tr style=\"text-align: right;\">\n",
       "      <th></th>\n",
       "      <th>id</th>\n",
       "      <th>name</th>\n",
       "      <th>license_id</th>\n",
       "      <th>address_number</th>\n",
       "      <th>address_street_name</th>\n",
       "      <th>ssn</th>\n",
       "    </tr>\n",
       "  </thead>\n",
       "  <tbody>\n",
       "    <tr>\n",
       "      <th>0</th>\n",
       "      <td>16371</td>\n",
       "      <td>Annabel Miller</td>\n",
       "      <td>490173</td>\n",
       "      <td>103</td>\n",
       "      <td>Franklin Ave</td>\n",
       "      <td>318771143</td>\n",
       "    </tr>\n",
       "  </tbody>\n",
       "</table>\n",
       "</div>"
      ],
      "text/plain": [
       "      id            name  license_id  address_number address_street_name  \\\n",
       "0  16371  Annabel Miller      490173             103        Franklin Ave   \n",
       "\n",
       "         ssn  \n",
       "0  318771143  "
      ]
     },
     "execution_count": 11,
     "metadata": {},
     "output_type": "execute_result"
    }
   ],
   "source": [
    "#Identificamos a la segunda testigo\n",
    "query='''\n",
    "SELECT *\n",
    "FROM person\n",
    "WHERE name LIKE '%Annabel%'\n",
    "AND address_street_name = \"Franklin Ave\";\n",
    "'''\n",
    "sql_query(query)"
   ]
  },
  {
   "cell_type": "code",
   "execution_count": null,
   "id": "2499dcf7-aba5-4194-b150-70355d666949",
   "metadata": {},
   "outputs": [
    {
     "name": "stdout",
     "output_type": "stream",
     "text": [
      "['14887', 'I heard a gunshot and then saw a man run out. He had a \"Get Fit Now Gym\" bag. The membership number on the bag started with \"48Z\". Only gold members have those bags. The man got into a car with a plate that included \"H42W\".']\n",
      "['16371', 'I saw the murder happen, and I recognized the killer from my gym when I was working out last week on January the 9th.']\n"
     ]
    },
    {
     "data": {
      "text/html": [
       "<div>\n",
       "<style scoped>\n",
       "    .dataframe tbody tr th:only-of-type {\n",
       "        vertical-align: middle;\n",
       "    }\n",
       "\n",
       "    .dataframe tbody tr th {\n",
       "        vertical-align: top;\n",
       "    }\n",
       "\n",
       "    .dataframe thead th {\n",
       "        text-align: right;\n",
       "    }\n",
       "</style>\n",
       "<table border=\"1\" class=\"dataframe\">\n",
       "  <thead>\n",
       "    <tr style=\"text-align: right;\">\n",
       "      <th></th>\n",
       "      <th>person_id</th>\n",
       "      <th>transcript</th>\n",
       "    </tr>\n",
       "  </thead>\n",
       "  <tbody>\n",
       "    <tr>\n",
       "      <th>0</th>\n",
       "      <td>14887</td>\n",
       "      <td>I heard a gunshot and then saw a man run out. ...</td>\n",
       "    </tr>\n",
       "    <tr>\n",
       "      <th>1</th>\n",
       "      <td>16371</td>\n",
       "      <td>I saw the murder happen, and I recognized the ...</td>\n",
       "    </tr>\n",
       "  </tbody>\n",
       "</table>\n",
       "</div>"
      ],
      "text/plain": [
       "   person_id                                         transcript\n",
       "0      14887  I heard a gunshot and then saw a man run out. ...\n",
       "1      16371  I saw the murder happen, and I recognized the ..."
      ]
     },
     "execution_count": 16,
     "metadata": {},
     "output_type": "execute_result"
    }
   ],
   "source": [
    "#Con los IDs de cada uno sacamos los informes de sus entrevistas.\n",
    "query='''\n",
    "SELECT *\n",
    "FROM interview\n",
    "WHERE person_id IN (\"14887\", \"16371\");\n",
    "'''\n",
    "sql_query(query)"
   ]
  },
  {
   "cell_type": "markdown",
   "id": "5e8a4e04-f4fd-4a27-8ee7-07efdbe69ee6",
   "metadata": {},
   "source": [
    "![Nuevas pistas](Nuevaspistas.png)"
   ]
  },
  {
   "cell_type": "code",
   "execution_count": 12,
   "id": "a77afd43",
   "metadata": {},
   "outputs": [
    {
     "name": "stdout",
     "output_type": "stream",
     "text": [
      "['67318', 'Jeremy Bowers']\n"
     ]
    },
    {
     "data": {
      "text/html": [
       "<div>\n",
       "<style scoped>\n",
       "    .dataframe tbody tr th:only-of-type {\n",
       "        vertical-align: middle;\n",
       "    }\n",
       "\n",
       "    .dataframe tbody tr th {\n",
       "        vertical-align: top;\n",
       "    }\n",
       "\n",
       "    .dataframe thead th {\n",
       "        text-align: right;\n",
       "    }\n",
       "</style>\n",
       "<table border=\"1\" class=\"dataframe\">\n",
       "  <thead>\n",
       "    <tr style=\"text-align: right;\">\n",
       "      <th></th>\n",
       "      <th>id</th>\n",
       "      <th>name</th>\n",
       "    </tr>\n",
       "  </thead>\n",
       "  <tbody>\n",
       "    <tr>\n",
       "      <th>0</th>\n",
       "      <td>67318</td>\n",
       "      <td>Jeremy Bowers</td>\n",
       "    </tr>\n",
       "  </tbody>\n",
       "</table>\n",
       "</div>"
      ],
      "text/plain": [
       "      id           name\n",
       "0  67318  Jeremy Bowers"
      ]
     },
     "execution_count": 12,
     "metadata": {},
     "output_type": "execute_result"
    }
   ],
   "source": [
    "#Con las nuevas pistas, cruzamos las tablas \"get_fit_now_member\",\"person\" y \"divers_license\" con un DOBLE JOIN\n",
    "query=''' \n",
    "SELECT person.id, person.name\n",
    "FROM get_fit_now_member\n",
    "JOIN person\n",
    "ON get_fit_now_member.person_id = person.id\n",
    "JOIN drivers_license\n",
    "ON person.license_id = drivers_license.id\n",
    "WHERE get_fit_now_member.id\n",
    "LIKE \"48Z%\"\n",
    "AND get_fit_now_member.membership_status = \"gold\"\n",
    "AND drivers_license.plate_number LIKE \"%H42W%\"\n",
    "'''\n",
    "sql_query(query)"
   ]
  },
  {
   "cell_type": "markdown",
   "id": "d8c80849-7a2f-4da8-891d-6076b0af0f12",
   "metadata": {},
   "source": [
    "![Asesino](Asesino.png)"
   ]
  },
  {
   "cell_type": "code",
   "execution_count": 13,
   "id": "0d9c83ae",
   "metadata": {},
   "outputs": [
    {
     "name": "stdout",
     "output_type": "stream",
     "text": [
      "['67318', 'I was hired by a woman with a lot of money. I don\\'t know her name but I know she\\'s around 5\\'5\" (65\") or 5\\'7\" (67\"). She has red hair and she drives a Tesla Model S. I know that she attended the SQL Symphony Concert 3 times in December 2017.\\n']\n"
     ]
    },
    {
     "data": {
      "text/html": [
       "<div>\n",
       "<style scoped>\n",
       "    .dataframe tbody tr th:only-of-type {\n",
       "        vertical-align: middle;\n",
       "    }\n",
       "\n",
       "    .dataframe tbody tr th {\n",
       "        vertical-align: top;\n",
       "    }\n",
       "\n",
       "    .dataframe thead th {\n",
       "        text-align: right;\n",
       "    }\n",
       "</style>\n",
       "<table border=\"1\" class=\"dataframe\">\n",
       "  <thead>\n",
       "    <tr style=\"text-align: right;\">\n",
       "      <th></th>\n",
       "      <th>person_id</th>\n",
       "      <th>transcript</th>\n",
       "    </tr>\n",
       "  </thead>\n",
       "  <tbody>\n",
       "    <tr>\n",
       "      <th>0</th>\n",
       "      <td>67318</td>\n",
       "      <td>I was hired by a woman with a lot of money. I ...</td>\n",
       "    </tr>\n",
       "  </tbody>\n",
       "</table>\n",
       "</div>"
      ],
      "text/plain": [
       "   person_id                                         transcript\n",
       "0      67318  I was hired by a woman with a lot of money. I ..."
      ]
     },
     "execution_count": 13,
     "metadata": {},
     "output_type": "execute_result"
    }
   ],
   "source": [
    "#Volvemos a la tabla \"interviews\" para ver el testimonio.\n",
    "query=''' \n",
    "SELECT *\n",
    "FROM interview\n",
    "WHERE person_id=67318\n",
    "'''\n",
    "sql_query(query)"
   ]
  },
  {
   "cell_type": "markdown",
   "id": "ced5ec25",
   "metadata": {},
   "source": [
    "![Informe_Asesino](Informeasesino.png)"
   ]
  },
  {
   "cell_type": "code",
   "execution_count": 14,
   "id": "5a12158a",
   "metadata": {},
   "outputs": [
    {
     "name": "stdout",
     "output_type": "stream",
     "text": [
      "['99716', '202298', '68', '66', 'green', 'red', 'female', '500123', 'Tesla', 'Model S', 'Miranda Priestly']\n"
     ]
    },
    {
     "data": {
      "text/html": [
       "<div>\n",
       "<style scoped>\n",
       "    .dataframe tbody tr th:only-of-type {\n",
       "        vertical-align: middle;\n",
       "    }\n",
       "\n",
       "    .dataframe tbody tr th {\n",
       "        vertical-align: top;\n",
       "    }\n",
       "\n",
       "    .dataframe thead th {\n",
       "        text-align: right;\n",
       "    }\n",
       "</style>\n",
       "<table border=\"1\" class=\"dataframe\">\n",
       "  <thead>\n",
       "    <tr style=\"text-align: right;\">\n",
       "      <th></th>\n",
       "      <th>person_id</th>\n",
       "      <th>id</th>\n",
       "      <th>age</th>\n",
       "      <th>height</th>\n",
       "      <th>eye_color</th>\n",
       "      <th>hair_color</th>\n",
       "      <th>gender</th>\n",
       "      <th>plate_number</th>\n",
       "      <th>car_make</th>\n",
       "      <th>car_model</th>\n",
       "      <th>name</th>\n",
       "    </tr>\n",
       "  </thead>\n",
       "  <tbody>\n",
       "    <tr>\n",
       "      <th>0</th>\n",
       "      <td>99716</td>\n",
       "      <td>202298</td>\n",
       "      <td>68</td>\n",
       "      <td>66</td>\n",
       "      <td>green</td>\n",
       "      <td>red</td>\n",
       "      <td>female</td>\n",
       "      <td>500123</td>\n",
       "      <td>Tesla</td>\n",
       "      <td>Model S</td>\n",
       "      <td>Miranda Priestly</td>\n",
       "    </tr>\n",
       "  </tbody>\n",
       "</table>\n",
       "</div>"
      ],
      "text/plain": [
       "   person_id      id  age  height eye_color hair_color  gender plate_number  \\\n",
       "0      99716  202298   68      66     green        red  female       500123   \n",
       "\n",
       "  car_make car_model              name  \n",
       "0    Tesla   Model S  Miranda Priestly  "
      ]
     },
     "execution_count": 14,
     "metadata": {},
     "output_type": "execute_result"
    }
   ],
   "source": [
    "#Con estos datos, vamos a cruzar las tablas \"person\", \"drivers_license\" y \"facebook_event_checkin\",y encontrar a la cabeza pensante de este asesinato.\n",
    "query= ''' \n",
    "SELECT fe.person_id, dl.*, p.name\n",
    "FROM (\n",
    "    SELECT person_id\n",
    "    FROM facebook_event_checkin\n",
    "    WHERE event_name = 'SQL Symphony Concert' AND date BETWEEN 20171201 AND 20171231\n",
    "    GROUP BY person_id\n",
    "    HAVING COUNT(*) = 3\n",
    ") AS fe\n",
    "JOIN person AS p\n",
    "ON fe.person_id = p.id\n",
    "JOIN drivers_license AS dl\n",
    "ON p.license_id = dl.id\n",
    "WHERE dl.car_make = 'Tesla' AND dl.car_model = 'Model S'\n",
    "AND dl.height BETWEEN 65 AND 67;\n",
    "'''\n",
    "sql_query(query)"
   ]
  },
  {
   "cell_type": "markdown",
   "id": "c57c50a7",
   "metadata": {},
   "source": [
    "![fin](Final.jpg)"
   ]
  },
  {
   "cell_type": "code",
   "execution_count": null,
   "id": "b02dc0ac-3b20-4aa6-90f1-be6eada41e28",
   "metadata": {},
   "outputs": [],
   "source": [
    "connection.commit()"
   ]
  }
 ],
 "metadata": {
  "kernelspec": {
   "display_name": "Python 3",
   "language": "python",
   "name": "python3"
  },
  "language_info": {
   "codemirror_mode": {
    "name": "ipython",
    "version": 3
   },
   "file_extension": ".py",
   "mimetype": "text/x-python",
   "name": "python",
   "nbconvert_exporter": "python",
   "pygments_lexer": "ipython3",
   "version": "3.12.6"
  }
 },
 "nbformat": 4,
 "nbformat_minor": 5
}
